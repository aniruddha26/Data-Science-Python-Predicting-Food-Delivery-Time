{
 "cells": [
  {
   "cell_type": "markdown",
   "metadata": {},
   "source": [
    "# Problem Statement\n",
    "\n",
    "The entire world is transforming digitally and our relationship with technology has grown exponentially over the last few years. We have grown closer to technology, and it has made our life a lot easier by saving time and effort. Today everything is accessible with smartphones — from groceries to cooked food and from medicines to doctors. In this hackathon, we provide you with data that is a by-product as well as a thriving proof of this growing relationship. \n",
    "\n",
    "When was the last time you ordered food online? And how long did it take to reach you?\n",
    "\n",
    "In this hackathon, we are providing you with data from thousands of restaurants in India regarding the time they take to deliver food for online order. As data scientists, your goal is to predict the online order delivery time based on the given factors.\n",
    "\n",
    "Analytics India Magazine and IMS Proschool bring to you ‘Predicting Predicting Food Delivery Time Hackathon’.\n",
    "\n",
    "Size of training set: 11,094 records\n",
    "\n",
    "Size of test set: 2,774 records\n",
    "\n",
    "FEATURES:\n",
    "\n",
    "Restaurant: A unique ID that represents a restaurant.\n",
    "\n",
    "Location: The location of the restaurant.\n",
    "\n",
    "Cuisines: The cuisines offered by the restaurant.\n",
    "\n",
    "Average_Cost: The average cost for one person/order.\n",
    "\n",
    "Minimum_Order: The minimum order amount.\n",
    "\n",
    "Rating: Customer rating for the restaurant.\n",
    "\n",
    "Votes: The total number of customer votes for the restaurant.\n",
    "\n",
    "Reviews: The number of customer reviews for the restaurant.\n",
    "\n",
    "Delivery_Time: The order delivery time of the restaurant. (Target Classes)"
   ]
  },
  {
   "cell_type": "markdown",
   "metadata": {},
   "source": [
    "# Import Libraries"
   ]
  },
  {
   "cell_type": "code",
   "execution_count": 1,
   "metadata": {},
   "outputs": [],
   "source": [
    "import pandas as pd\n",
    "import numpy as np\n",
    "import pandas_profiling\n",
    "import seaborn as sns\n",
    "\n",
    "from sklearn.model_selection import train_test_split\n",
    "from sklearn.linear_model import LogisticRegression\n",
    "from sklearn.tree import DecisionTreeClassifier\n",
    "from sklearn.ensemble import RandomForestClassifier\n",
    "from sklearn.neighbors import KNeighborsClassifier\n",
    "from sklearn.naive_bayes import GaussianNB\n",
    "from xgboost import XGBClassifier\n",
    "\n",
    "from sklearn.model_selection import cross_val_score\n",
    "\n",
    "from sklearn.metrics import mean_squared_error, r2_score\n",
    "from math import sqrt\n",
    "import statsmodels.api as sm"
   ]
  },
  {
   "cell_type": "markdown",
   "metadata": {},
   "source": [
    "# Import Data Set in Python Environment"
   ]
  },
  {
   "cell_type": "code",
   "execution_count": 2,
   "metadata": {},
   "outputs": [],
   "source": [
    "train_data = pd.read_csv(\"/home/aniruddha/Projects/Food Delivery Time/train_data.csv\")\n",
    "test_data = pd.read_csv(\"/home/aniruddha/Projects/Food Delivery Time/test_data.csv\")"
   ]
  },
  {
   "cell_type": "markdown",
   "metadata": {},
   "source": [
    "# Identify variable types of both train and test data"
   ]
  },
  {
   "cell_type": "code",
   "execution_count": 3,
   "metadata": {},
   "outputs": [
    {
     "data": {
      "text/html": [
       "<div>\n",
       "<style scoped>\n",
       "    .dataframe tbody tr th:only-of-type {\n",
       "        vertical-align: middle;\n",
       "    }\n",
       "\n",
       "    .dataframe tbody tr th {\n",
       "        vertical-align: top;\n",
       "    }\n",
       "\n",
       "    .dataframe thead th {\n",
       "        text-align: right;\n",
       "    }\n",
       "</style>\n",
       "<table border=\"1\" class=\"dataframe\">\n",
       "  <thead>\n",
       "    <tr style=\"text-align: right;\">\n",
       "      <th></th>\n",
       "      <th>Restaurant</th>\n",
       "      <th>Location</th>\n",
       "      <th>Cuisines</th>\n",
       "      <th>Average_Cost</th>\n",
       "      <th>Minimum_Order</th>\n",
       "      <th>Rating</th>\n",
       "      <th>Votes</th>\n",
       "      <th>Reviews</th>\n",
       "      <th>Delivery_Time</th>\n",
       "    </tr>\n",
       "  </thead>\n",
       "  <tbody>\n",
       "    <tr>\n",
       "      <td>0</td>\n",
       "      <td>ID_6321</td>\n",
       "      <td>FTI College, Law College Road, Pune</td>\n",
       "      <td>Fast Food, Rolls, Burger, Salad, Wraps</td>\n",
       "      <td>₹200</td>\n",
       "      <td>₹50</td>\n",
       "      <td>3.5</td>\n",
       "      <td>12</td>\n",
       "      <td>4</td>\n",
       "      <td>30 minutes</td>\n",
       "    </tr>\n",
       "    <tr>\n",
       "      <td>1</td>\n",
       "      <td>ID_2882</td>\n",
       "      <td>Sector 3, Marathalli</td>\n",
       "      <td>Ice Cream, Desserts</td>\n",
       "      <td>₹100</td>\n",
       "      <td>₹50</td>\n",
       "      <td>3.5</td>\n",
       "      <td>11</td>\n",
       "      <td>4</td>\n",
       "      <td>30 minutes</td>\n",
       "    </tr>\n",
       "    <tr>\n",
       "      <td>2</td>\n",
       "      <td>ID_1595</td>\n",
       "      <td>Mumbai Central</td>\n",
       "      <td>Italian, Street Food, Fast Food</td>\n",
       "      <td>₹150</td>\n",
       "      <td>₹50</td>\n",
       "      <td>3.6</td>\n",
       "      <td>99</td>\n",
       "      <td>30</td>\n",
       "      <td>65 minutes</td>\n",
       "    </tr>\n",
       "    <tr>\n",
       "      <td>3</td>\n",
       "      <td>ID_5929</td>\n",
       "      <td>Sector 1, Noida</td>\n",
       "      <td>Mughlai, North Indian, Chinese</td>\n",
       "      <td>₹250</td>\n",
       "      <td>₹99</td>\n",
       "      <td>3.7</td>\n",
       "      <td>176</td>\n",
       "      <td>95</td>\n",
       "      <td>30 minutes</td>\n",
       "    </tr>\n",
       "    <tr>\n",
       "      <td>4</td>\n",
       "      <td>ID_6123</td>\n",
       "      <td>Rmz Centennial, I Gate, Whitefield</td>\n",
       "      <td>Cafe, Beverages</td>\n",
       "      <td>₹200</td>\n",
       "      <td>₹99</td>\n",
       "      <td>3.2</td>\n",
       "      <td>521</td>\n",
       "      <td>235</td>\n",
       "      <td>65 minutes</td>\n",
       "    </tr>\n",
       "  </tbody>\n",
       "</table>\n",
       "</div>"
      ],
      "text/plain": [
       "  Restaurant                             Location  \\\n",
       "0    ID_6321  FTI College, Law College Road, Pune   \n",
       "1    ID_2882                 Sector 3, Marathalli   \n",
       "2    ID_1595                       Mumbai Central   \n",
       "3    ID_5929                      Sector 1, Noida   \n",
       "4    ID_6123   Rmz Centennial, I Gate, Whitefield   \n",
       "\n",
       "                                 Cuisines Average_Cost Minimum_Order Rating  \\\n",
       "0  Fast Food, Rolls, Burger, Salad, Wraps         ₹200           ₹50    3.5   \n",
       "1                     Ice Cream, Desserts         ₹100           ₹50    3.5   \n",
       "2         Italian, Street Food, Fast Food         ₹150           ₹50    3.6   \n",
       "3          Mughlai, North Indian, Chinese         ₹250           ₹99    3.7   \n",
       "4                         Cafe, Beverages         ₹200           ₹99    3.2   \n",
       "\n",
       "  Votes Reviews Delivery_Time  \n",
       "0    12       4    30 minutes  \n",
       "1    11       4    30 minutes  \n",
       "2    99      30    65 minutes  \n",
       "3   176      95    30 minutes  \n",
       "4   521     235    65 minutes  "
      ]
     },
     "execution_count": 3,
     "metadata": {},
     "output_type": "execute_result"
    }
   ],
   "source": [
    "train_data.head()"
   ]
  },
  {
   "cell_type": "code",
   "execution_count": 4,
   "metadata": {},
   "outputs": [
    {
     "data": {
      "text/html": [
       "<div>\n",
       "<style scoped>\n",
       "    .dataframe tbody tr th:only-of-type {\n",
       "        vertical-align: middle;\n",
       "    }\n",
       "\n",
       "    .dataframe tbody tr th {\n",
       "        vertical-align: top;\n",
       "    }\n",
       "\n",
       "    .dataframe thead th {\n",
       "        text-align: right;\n",
       "    }\n",
       "</style>\n",
       "<table border=\"1\" class=\"dataframe\">\n",
       "  <thead>\n",
       "    <tr style=\"text-align: right;\">\n",
       "      <th></th>\n",
       "      <th>Restaurant</th>\n",
       "      <th>Location</th>\n",
       "      <th>Cuisines</th>\n",
       "      <th>Average_Cost</th>\n",
       "      <th>Minimum_Order</th>\n",
       "      <th>Rating</th>\n",
       "      <th>Votes</th>\n",
       "      <th>Reviews</th>\n",
       "    </tr>\n",
       "  </thead>\n",
       "  <tbody>\n",
       "    <tr>\n",
       "      <td>0</td>\n",
       "      <td>ID_2842</td>\n",
       "      <td>Mico Layout, Stage 2, BTM Layout,Bangalore</td>\n",
       "      <td>North Indian, Chinese, Assamese</td>\n",
       "      <td>₹350</td>\n",
       "      <td>₹50</td>\n",
       "      <td>4.2</td>\n",
       "      <td>361</td>\n",
       "      <td>225</td>\n",
       "    </tr>\n",
       "    <tr>\n",
       "      <td>1</td>\n",
       "      <td>ID_730</td>\n",
       "      <td>Mico Layout, Stage 2, BTM Layout,Bangalore</td>\n",
       "      <td>Biryani, Kebab</td>\n",
       "      <td>₹100</td>\n",
       "      <td>₹50</td>\n",
       "      <td>NEW</td>\n",
       "      <td>-</td>\n",
       "      <td>-</td>\n",
       "    </tr>\n",
       "    <tr>\n",
       "      <td>2</td>\n",
       "      <td>ID_4620</td>\n",
       "      <td>Sector 1, Noida</td>\n",
       "      <td>Fast Food</td>\n",
       "      <td>₹100</td>\n",
       "      <td>₹50</td>\n",
       "      <td>3.6</td>\n",
       "      <td>36</td>\n",
       "      <td>16</td>\n",
       "    </tr>\n",
       "    <tr>\n",
       "      <td>3</td>\n",
       "      <td>ID_5470</td>\n",
       "      <td>Babarpur, New Delhi, Delhi</td>\n",
       "      <td>Mithai, North Indian, Chinese, Fast Food, Sout...</td>\n",
       "      <td>₹200</td>\n",
       "      <td>₹50</td>\n",
       "      <td>3.6</td>\n",
       "      <td>66</td>\n",
       "      <td>33</td>\n",
       "    </tr>\n",
       "    <tr>\n",
       "      <td>4</td>\n",
       "      <td>ID_3249</td>\n",
       "      <td>Sector 1, Noida</td>\n",
       "      <td>Chinese, Fast Food</td>\n",
       "      <td>₹150</td>\n",
       "      <td>₹50</td>\n",
       "      <td>2.9</td>\n",
       "      <td>38</td>\n",
       "      <td>14</td>\n",
       "    </tr>\n",
       "  </tbody>\n",
       "</table>\n",
       "</div>"
      ],
      "text/plain": [
       "  Restaurant                                    Location  \\\n",
       "0    ID_2842  Mico Layout, Stage 2, BTM Layout,Bangalore   \n",
       "1     ID_730  Mico Layout, Stage 2, BTM Layout,Bangalore   \n",
       "2    ID_4620                             Sector 1, Noida   \n",
       "3    ID_5470                  Babarpur, New Delhi, Delhi   \n",
       "4    ID_3249                             Sector 1, Noida   \n",
       "\n",
       "                                            Cuisines Average_Cost  \\\n",
       "0                    North Indian, Chinese, Assamese         ₹350   \n",
       "1                                     Biryani, Kebab         ₹100   \n",
       "2                                          Fast Food         ₹100   \n",
       "3  Mithai, North Indian, Chinese, Fast Food, Sout...         ₹200   \n",
       "4                                 Chinese, Fast Food         ₹150   \n",
       "\n",
       "  Minimum_Order Rating Votes Reviews  \n",
       "0           ₹50    4.2   361     225  \n",
       "1           ₹50    NEW     -       -  \n",
       "2           ₹50    3.6    36      16  \n",
       "3           ₹50    3.6    66      33  \n",
       "4           ₹50    2.9    38      14  "
      ]
     },
     "execution_count": 4,
     "metadata": {},
     "output_type": "execute_result"
    }
   ],
   "source": [
    "test_data.head()"
   ]
  },
  {
   "cell_type": "code",
   "execution_count": 5,
   "metadata": {},
   "outputs": [
    {
     "data": {
      "text/html": [
       "<div>\n",
       "<style scoped>\n",
       "    .dataframe tbody tr th:only-of-type {\n",
       "        vertical-align: middle;\n",
       "    }\n",
       "\n",
       "    .dataframe tbody tr th {\n",
       "        vertical-align: top;\n",
       "    }\n",
       "\n",
       "    .dataframe thead th {\n",
       "        text-align: right;\n",
       "    }\n",
       "</style>\n",
       "<table border=\"1\" class=\"dataframe\">\n",
       "  <thead>\n",
       "    <tr style=\"text-align: right;\">\n",
       "      <th></th>\n",
       "      <th>Restaurant</th>\n",
       "      <th>Location</th>\n",
       "      <th>Cuisines</th>\n",
       "      <th>Average_Cost</th>\n",
       "      <th>Minimum_Order</th>\n",
       "      <th>Rating</th>\n",
       "      <th>Votes</th>\n",
       "      <th>Reviews</th>\n",
       "      <th>Delivery_Time</th>\n",
       "    </tr>\n",
       "  </thead>\n",
       "  <tbody>\n",
       "    <tr>\n",
       "      <td>11089</td>\n",
       "      <td>ID_8067</td>\n",
       "      <td>BTM Layout 1, Electronic City</td>\n",
       "      <td>Tibetan, Chinese, Continental, Momos</td>\n",
       "      <td>₹250</td>\n",
       "      <td>₹50</td>\n",
       "      <td>4.2</td>\n",
       "      <td>326</td>\n",
       "      <td>189</td>\n",
       "      <td>30 minutes</td>\n",
       "    </tr>\n",
       "    <tr>\n",
       "      <td>11090</td>\n",
       "      <td>ID_4620</td>\n",
       "      <td>Sector 14, Noida</td>\n",
       "      <td>Fast Food</td>\n",
       "      <td>₹100</td>\n",
       "      <td>₹50</td>\n",
       "      <td>3.6</td>\n",
       "      <td>36</td>\n",
       "      <td>16</td>\n",
       "      <td>30 minutes</td>\n",
       "    </tr>\n",
       "    <tr>\n",
       "      <td>11091</td>\n",
       "      <td>ID_3392</td>\n",
       "      <td>Majestic</td>\n",
       "      <td>South Indian, Chinese, North Indian</td>\n",
       "      <td>₹100</td>\n",
       "      <td>₹50</td>\n",
       "      <td>3.5</td>\n",
       "      <td>45</td>\n",
       "      <td>18</td>\n",
       "      <td>30 minutes</td>\n",
       "    </tr>\n",
       "    <tr>\n",
       "      <td>11092</td>\n",
       "      <td>ID_4115</td>\n",
       "      <td>Sector 3, Marathalli</td>\n",
       "      <td>North Indian</td>\n",
       "      <td>₹100</td>\n",
       "      <td>₹50</td>\n",
       "      <td>3.1</td>\n",
       "      <td>24</td>\n",
       "      <td>9</td>\n",
       "      <td>30 minutes</td>\n",
       "    </tr>\n",
       "    <tr>\n",
       "      <td>11093</td>\n",
       "      <td>ID_4417</td>\n",
       "      <td>Sector 63A,Gurgaon</td>\n",
       "      <td>North Indian</td>\n",
       "      <td>₹100</td>\n",
       "      <td>₹50</td>\n",
       "      <td>NEW</td>\n",
       "      <td>-</td>\n",
       "      <td>-</td>\n",
       "      <td>30 minutes</td>\n",
       "    </tr>\n",
       "  </tbody>\n",
       "</table>\n",
       "</div>"
      ],
      "text/plain": [
       "      Restaurant                       Location  \\\n",
       "11089    ID_8067  BTM Layout 1, Electronic City   \n",
       "11090    ID_4620               Sector 14, Noida   \n",
       "11091    ID_3392                       Majestic   \n",
       "11092    ID_4115           Sector 3, Marathalli   \n",
       "11093    ID_4417             Sector 63A,Gurgaon   \n",
       "\n",
       "                                   Cuisines Average_Cost Minimum_Order Rating  \\\n",
       "11089  Tibetan, Chinese, Continental, Momos         ₹250           ₹50    4.2   \n",
       "11090                             Fast Food         ₹100           ₹50    3.6   \n",
       "11091   South Indian, Chinese, North Indian         ₹100           ₹50    3.5   \n",
       "11092                          North Indian         ₹100           ₹50    3.1   \n",
       "11093                          North Indian         ₹100           ₹50    NEW   \n",
       "\n",
       "      Votes Reviews Delivery_Time  \n",
       "11089   326     189    30 minutes  \n",
       "11090    36      16    30 minutes  \n",
       "11091    45      18    30 minutes  \n",
       "11092    24       9    30 minutes  \n",
       "11093     -       -    30 minutes  "
      ]
     },
     "execution_count": 5,
     "metadata": {},
     "output_type": "execute_result"
    }
   ],
   "source": [
    "train_data.tail()"
   ]
  },
  {
   "cell_type": "code",
   "execution_count": 6,
   "metadata": {},
   "outputs": [
    {
     "data": {
      "text/html": [
       "<div>\n",
       "<style scoped>\n",
       "    .dataframe tbody tr th:only-of-type {\n",
       "        vertical-align: middle;\n",
       "    }\n",
       "\n",
       "    .dataframe tbody tr th {\n",
       "        vertical-align: top;\n",
       "    }\n",
       "\n",
       "    .dataframe thead th {\n",
       "        text-align: right;\n",
       "    }\n",
       "</style>\n",
       "<table border=\"1\" class=\"dataframe\">\n",
       "  <thead>\n",
       "    <tr style=\"text-align: right;\">\n",
       "      <th></th>\n",
       "      <th>Restaurant</th>\n",
       "      <th>Location</th>\n",
       "      <th>Cuisines</th>\n",
       "      <th>Average_Cost</th>\n",
       "      <th>Minimum_Order</th>\n",
       "      <th>Rating</th>\n",
       "      <th>Votes</th>\n",
       "      <th>Reviews</th>\n",
       "    </tr>\n",
       "  </thead>\n",
       "  <tbody>\n",
       "    <tr>\n",
       "      <td>2769</td>\n",
       "      <td>ID_6342</td>\n",
       "      <td>Delhi University-GTB Nagar</td>\n",
       "      <td>Fast Food, Chinese</td>\n",
       "      <td>₹100</td>\n",
       "      <td>₹50</td>\n",
       "      <td>NEW</td>\n",
       "      <td>-</td>\n",
       "      <td>-</td>\n",
       "    </tr>\n",
       "    <tr>\n",
       "      <td>2770</td>\n",
       "      <td>ID_8495</td>\n",
       "      <td>Mico Layout, Stage 2, BTM Layout,Bangalore</td>\n",
       "      <td>Continental, North Indian, Desserts, Beverages</td>\n",
       "      <td>₹250</td>\n",
       "      <td>₹50</td>\n",
       "      <td>3.1</td>\n",
       "      <td>5</td>\n",
       "      <td>1</td>\n",
       "    </tr>\n",
       "    <tr>\n",
       "      <td>2771</td>\n",
       "      <td>ID_7122</td>\n",
       "      <td>Noorkhan Bazaar, Malakpet, Hyderabad</td>\n",
       "      <td>Andhra, South Indian</td>\n",
       "      <td>₹150</td>\n",
       "      <td>₹50</td>\n",
       "      <td>3.0</td>\n",
       "      <td>16</td>\n",
       "      <td>1</td>\n",
       "    </tr>\n",
       "    <tr>\n",
       "      <td>2772</td>\n",
       "      <td>ID_2475</td>\n",
       "      <td>D-Block, Sector 63, Noida</td>\n",
       "      <td>Bakery</td>\n",
       "      <td>₹100</td>\n",
       "      <td>₹99</td>\n",
       "      <td>3.0</td>\n",
       "      <td>7</td>\n",
       "      <td>2</td>\n",
       "    </tr>\n",
       "    <tr>\n",
       "      <td>2773</td>\n",
       "      <td>ID_1595</td>\n",
       "      <td>Dockyard Road, Mumbai CST Area</td>\n",
       "      <td>Italian, Street Food, Fast Food</td>\n",
       "      <td>₹150</td>\n",
       "      <td>₹50</td>\n",
       "      <td>3.6</td>\n",
       "      <td>99</td>\n",
       "      <td>30</td>\n",
       "    </tr>\n",
       "  </tbody>\n",
       "</table>\n",
       "</div>"
      ],
      "text/plain": [
       "     Restaurant                                    Location  \\\n",
       "2769    ID_6342                  Delhi University-GTB Nagar   \n",
       "2770    ID_8495  Mico Layout, Stage 2, BTM Layout,Bangalore   \n",
       "2771    ID_7122        Noorkhan Bazaar, Malakpet, Hyderabad   \n",
       "2772    ID_2475                   D-Block, Sector 63, Noida   \n",
       "2773    ID_1595              Dockyard Road, Mumbai CST Area   \n",
       "\n",
       "                                            Cuisines Average_Cost  \\\n",
       "2769                              Fast Food, Chinese         ₹100   \n",
       "2770  Continental, North Indian, Desserts, Beverages         ₹250   \n",
       "2771                            Andhra, South Indian         ₹150   \n",
       "2772                                          Bakery         ₹100   \n",
       "2773                 Italian, Street Food, Fast Food         ₹150   \n",
       "\n",
       "     Minimum_Order Rating Votes Reviews  \n",
       "2769           ₹50    NEW     -       -  \n",
       "2770           ₹50    3.1     5       1  \n",
       "2771           ₹50    3.0    16       1  \n",
       "2772           ₹99    3.0     7       2  \n",
       "2773           ₹50    3.6    99      30  "
      ]
     },
     "execution_count": 6,
     "metadata": {},
     "output_type": "execute_result"
    }
   ],
   "source": [
    "test_data.tail()"
   ]
  },
  {
   "cell_type": "code",
   "execution_count": 7,
   "metadata": {},
   "outputs": [
    {
     "name": "stdout",
     "output_type": "stream",
     "text": [
      "Shape of train data: (11094, 9)\n",
      "Shape of test data: (2774, 8)\n"
     ]
    }
   ],
   "source": [
    "print(\"Shape of train data:\",train_data.shape)\n",
    "print(\"Shape of test data:\",test_data.shape)"
   ]
  },
  {
   "cell_type": "code",
   "execution_count": 8,
   "metadata": {},
   "outputs": [
    {
     "data": {
      "text/plain": [
       "Restaurant       7480\n",
       "Location           35\n",
       "Cuisines         2179\n",
       "Average_Cost       26\n",
       "Minimum_Order      18\n",
       "Rating             33\n",
       "Votes            1103\n",
       "Reviews           761\n",
       "Delivery_Time       7\n",
       "dtype: int64"
      ]
     },
     "execution_count": 8,
     "metadata": {},
     "output_type": "execute_result"
    }
   ],
   "source": [
    "train_data.nunique()"
   ]
  },
  {
   "cell_type": "code",
   "execution_count": 9,
   "metadata": {},
   "outputs": [
    {
     "data": {
      "text/plain": [
       "Restaurant       2401\n",
       "Location           35\n",
       "Cuisines          881\n",
       "Average_Cost       19\n",
       "Minimum_Order       9\n",
       "Rating             30\n",
       "Votes             580\n",
       "Reviews           392\n",
       "dtype: int64"
      ]
     },
     "execution_count": 9,
     "metadata": {},
     "output_type": "execute_result"
    }
   ],
   "source": [
    "test_data.nunique()"
   ]
  },
  {
   "cell_type": "code",
   "execution_count": 10,
   "metadata": {},
   "outputs": [
    {
     "data": {
      "text/plain": [
       "Restaurant       0\n",
       "Location         0\n",
       "Cuisines         0\n",
       "Average_Cost     0\n",
       "Minimum_Order    0\n",
       "Rating           0\n",
       "Votes            0\n",
       "Reviews          0\n",
       "Delivery_Time    0\n",
       "dtype: int64"
      ]
     },
     "execution_count": 10,
     "metadata": {},
     "output_type": "execute_result"
    }
   ],
   "source": [
    "train_data.isnull().sum()"
   ]
  },
  {
   "cell_type": "code",
   "execution_count": 11,
   "metadata": {},
   "outputs": [
    {
     "data": {
      "text/plain": [
       "Restaurant       0\n",
       "Location         0\n",
       "Cuisines         0\n",
       "Average_Cost     0\n",
       "Minimum_Order    0\n",
       "Rating           0\n",
       "Votes            0\n",
       "Reviews          0\n",
       "dtype: int64"
      ]
     },
     "execution_count": 11,
     "metadata": {},
     "output_type": "execute_result"
    }
   ],
   "source": [
    "test_data.isnull().sum()"
   ]
  },
  {
   "cell_type": "code",
   "execution_count": 12,
   "metadata": {},
   "outputs": [
    {
     "data": {
      "text/plain": [
       "Restaurant       object\n",
       "Location         object\n",
       "Cuisines         object\n",
       "Average_Cost     object\n",
       "Minimum_Order    object\n",
       "Rating           object\n",
       "Votes            object\n",
       "Reviews          object\n",
       "Delivery_Time    object\n",
       "dtype: object"
      ]
     },
     "execution_count": 12,
     "metadata": {},
     "output_type": "execute_result"
    }
   ],
   "source": [
    "train_data.dtypes"
   ]
  },
  {
   "cell_type": "code",
   "execution_count": 13,
   "metadata": {},
   "outputs": [
    {
     "data": {
      "text/plain": [
       "Restaurant       object\n",
       "Location         object\n",
       "Cuisines         object\n",
       "Average_Cost     object\n",
       "Minimum_Order    object\n",
       "Rating           object\n",
       "Votes            object\n",
       "Reviews          object\n",
       "dtype: object"
      ]
     },
     "execution_count": 13,
     "metadata": {},
     "output_type": "execute_result"
    }
   ],
   "source": [
    "test_data.dtypes"
   ]
  },
  {
   "cell_type": "markdown",
   "metadata": {},
   "source": [
    "## Feature Engineering on train data"
   ]
  },
  {
   "cell_type": "code",
   "execution_count": 14,
   "metadata": {},
   "outputs": [
    {
     "data": {
      "text/html": [
       "<div>\n",
       "<style scoped>\n",
       "    .dataframe tbody tr th:only-of-type {\n",
       "        vertical-align: middle;\n",
       "    }\n",
       "\n",
       "    .dataframe tbody tr th {\n",
       "        vertical-align: top;\n",
       "    }\n",
       "\n",
       "    .dataframe thead th {\n",
       "        text-align: right;\n",
       "    }\n",
       "</style>\n",
       "<table border=\"1\" class=\"dataframe\">\n",
       "  <thead>\n",
       "    <tr style=\"text-align: right;\">\n",
       "      <th></th>\n",
       "      <th>Restaurant</th>\n",
       "      <th>Location</th>\n",
       "      <th>Cuisines</th>\n",
       "      <th>Average_Cost</th>\n",
       "      <th>Minimum_Order</th>\n",
       "      <th>Rating</th>\n",
       "      <th>Votes</th>\n",
       "      <th>Reviews</th>\n",
       "      <th>Delivery_Time</th>\n",
       "    </tr>\n",
       "  </thead>\n",
       "  <tbody>\n",
       "    <tr>\n",
       "      <td>0</td>\n",
       "      <td>ID_6321</td>\n",
       "      <td>FTI College, Law College Road, Pune</td>\n",
       "      <td>5</td>\n",
       "      <td>₹200</td>\n",
       "      <td>₹50</td>\n",
       "      <td>3.5</td>\n",
       "      <td>12</td>\n",
       "      <td>4</td>\n",
       "      <td>30 minutes</td>\n",
       "    </tr>\n",
       "    <tr>\n",
       "      <td>1</td>\n",
       "      <td>ID_2882</td>\n",
       "      <td>Sector 3, Marathalli</td>\n",
       "      <td>2</td>\n",
       "      <td>₹100</td>\n",
       "      <td>₹50</td>\n",
       "      <td>3.5</td>\n",
       "      <td>11</td>\n",
       "      <td>4</td>\n",
       "      <td>30 minutes</td>\n",
       "    </tr>\n",
       "    <tr>\n",
       "      <td>2</td>\n",
       "      <td>ID_1595</td>\n",
       "      <td>Mumbai Central</td>\n",
       "      <td>3</td>\n",
       "      <td>₹150</td>\n",
       "      <td>₹50</td>\n",
       "      <td>3.6</td>\n",
       "      <td>99</td>\n",
       "      <td>30</td>\n",
       "      <td>65 minutes</td>\n",
       "    </tr>\n",
       "    <tr>\n",
       "      <td>3</td>\n",
       "      <td>ID_5929</td>\n",
       "      <td>Sector 1, Noida</td>\n",
       "      <td>3</td>\n",
       "      <td>₹250</td>\n",
       "      <td>₹99</td>\n",
       "      <td>3.7</td>\n",
       "      <td>176</td>\n",
       "      <td>95</td>\n",
       "      <td>30 minutes</td>\n",
       "    </tr>\n",
       "    <tr>\n",
       "      <td>4</td>\n",
       "      <td>ID_6123</td>\n",
       "      <td>Rmz Centennial, I Gate, Whitefield</td>\n",
       "      <td>2</td>\n",
       "      <td>₹200</td>\n",
       "      <td>₹99</td>\n",
       "      <td>3.2</td>\n",
       "      <td>521</td>\n",
       "      <td>235</td>\n",
       "      <td>65 minutes</td>\n",
       "    </tr>\n",
       "  </tbody>\n",
       "</table>\n",
       "</div>"
      ],
      "text/plain": [
       "  Restaurant                             Location  Cuisines Average_Cost  \\\n",
       "0    ID_6321  FTI College, Law College Road, Pune         5         ₹200   \n",
       "1    ID_2882                 Sector 3, Marathalli         2         ₹100   \n",
       "2    ID_1595                       Mumbai Central         3         ₹150   \n",
       "3    ID_5929                      Sector 1, Noida         3         ₹250   \n",
       "4    ID_6123   Rmz Centennial, I Gate, Whitefield         2         ₹200   \n",
       "\n",
       "  Minimum_Order Rating Votes Reviews Delivery_Time  \n",
       "0           ₹50    3.5    12       4    30 minutes  \n",
       "1           ₹50    3.5    11       4    30 minutes  \n",
       "2           ₹50    3.6    99      30    65 minutes  \n",
       "3           ₹99    3.7   176      95    30 minutes  \n",
       "4           ₹99    3.2   521     235    65 minutes  "
      ]
     },
     "execution_count": 14,
     "metadata": {},
     "output_type": "execute_result"
    }
   ],
   "source": [
    "# find number of food provide by the restaurant in 'Cuisines' column. and convert into interger \n",
    "train_data['Cuisines'] = train_data['Cuisines'].str.split(\",\")\n",
    "train_data['Cuisines'] = train_data['Cuisines'].apply(lambda x : len(x))\n",
    "train_data.head()"
   ]
  },
  {
   "cell_type": "code",
   "execution_count": 15,
   "metadata": {
    "scrolled": true
   },
   "outputs": [
    {
     "data": {
      "text/plain": [
       "Restaurant       object\n",
       "Location         object\n",
       "Cuisines          int64\n",
       "Average_Cost     object\n",
       "Minimum_Order    object\n",
       "Rating           object\n",
       "Votes            object\n",
       "Reviews          object\n",
       "Delivery_Time    object\n",
       "dtype: object"
      ]
     },
     "execution_count": 15,
     "metadata": {},
     "output_type": "execute_result"
    }
   ],
   "source": [
    "train_data.dtypes"
   ]
  },
  {
   "cell_type": "code",
   "execution_count": 16,
   "metadata": {},
   "outputs": [],
   "source": [
    "# Removing Rs sign from 'Average_Cost' and 'Minimum_Order'\n",
    "train_data['Average_Cost'] = train_data['Average_Cost'].str.replace(r'\\D', '')\n",
    "train_data['Minimum_Order'] = train_data['Minimum_Order'].str.replace(r'\\D', '')"
   ]
  },
  {
   "cell_type": "code",
   "execution_count": 17,
   "metadata": {},
   "outputs": [
    {
     "data": {
      "text/html": [
       "<div>\n",
       "<style scoped>\n",
       "    .dataframe tbody tr th:only-of-type {\n",
       "        vertical-align: middle;\n",
       "    }\n",
       "\n",
       "    .dataframe tbody tr th {\n",
       "        vertical-align: top;\n",
       "    }\n",
       "\n",
       "    .dataframe thead th {\n",
       "        text-align: right;\n",
       "    }\n",
       "</style>\n",
       "<table border=\"1\" class=\"dataframe\">\n",
       "  <thead>\n",
       "    <tr style=\"text-align: right;\">\n",
       "      <th></th>\n",
       "      <th>Restaurant</th>\n",
       "      <th>Location</th>\n",
       "      <th>Cuisines</th>\n",
       "      <th>Average_Cost</th>\n",
       "      <th>Minimum_Order</th>\n",
       "      <th>Rating</th>\n",
       "      <th>Votes</th>\n",
       "      <th>Reviews</th>\n",
       "      <th>Delivery_Time</th>\n",
       "    </tr>\n",
       "  </thead>\n",
       "  <tbody>\n",
       "    <tr>\n",
       "      <td>0</td>\n",
       "      <td>ID_6321</td>\n",
       "      <td>FTI College, Law College Road, Pune</td>\n",
       "      <td>5</td>\n",
       "      <td>200</td>\n",
       "      <td>50</td>\n",
       "      <td>3.5</td>\n",
       "      <td>12</td>\n",
       "      <td>4</td>\n",
       "      <td>30 minutes</td>\n",
       "    </tr>\n",
       "    <tr>\n",
       "      <td>1</td>\n",
       "      <td>ID_2882</td>\n",
       "      <td>Sector 3, Marathalli</td>\n",
       "      <td>2</td>\n",
       "      <td>100</td>\n",
       "      <td>50</td>\n",
       "      <td>3.5</td>\n",
       "      <td>11</td>\n",
       "      <td>4</td>\n",
       "      <td>30 minutes</td>\n",
       "    </tr>\n",
       "    <tr>\n",
       "      <td>2</td>\n",
       "      <td>ID_1595</td>\n",
       "      <td>Mumbai Central</td>\n",
       "      <td>3</td>\n",
       "      <td>150</td>\n",
       "      <td>50</td>\n",
       "      <td>3.6</td>\n",
       "      <td>99</td>\n",
       "      <td>30</td>\n",
       "      <td>65 minutes</td>\n",
       "    </tr>\n",
       "    <tr>\n",
       "      <td>3</td>\n",
       "      <td>ID_5929</td>\n",
       "      <td>Sector 1, Noida</td>\n",
       "      <td>3</td>\n",
       "      <td>250</td>\n",
       "      <td>99</td>\n",
       "      <td>3.7</td>\n",
       "      <td>176</td>\n",
       "      <td>95</td>\n",
       "      <td>30 minutes</td>\n",
       "    </tr>\n",
       "    <tr>\n",
       "      <td>4</td>\n",
       "      <td>ID_6123</td>\n",
       "      <td>Rmz Centennial, I Gate, Whitefield</td>\n",
       "      <td>2</td>\n",
       "      <td>200</td>\n",
       "      <td>99</td>\n",
       "      <td>3.2</td>\n",
       "      <td>521</td>\n",
       "      <td>235</td>\n",
       "      <td>65 minutes</td>\n",
       "    </tr>\n",
       "  </tbody>\n",
       "</table>\n",
       "</div>"
      ],
      "text/plain": [
       "  Restaurant                             Location  Cuisines Average_Cost  \\\n",
       "0    ID_6321  FTI College, Law College Road, Pune         5          200   \n",
       "1    ID_2882                 Sector 3, Marathalli         2          100   \n",
       "2    ID_1595                       Mumbai Central         3          150   \n",
       "3    ID_5929                      Sector 1, Noida         3          250   \n",
       "4    ID_6123   Rmz Centennial, I Gate, Whitefield         2          200   \n",
       "\n",
       "  Minimum_Order Rating Votes Reviews Delivery_Time  \n",
       "0            50    3.5    12       4    30 minutes  \n",
       "1            50    3.5    11       4    30 minutes  \n",
       "2            50    3.6    99      30    65 minutes  \n",
       "3            99    3.7   176      95    30 minutes  \n",
       "4            99    3.2   521     235    65 minutes  "
      ]
     },
     "execution_count": 17,
     "metadata": {},
     "output_type": "execute_result"
    }
   ],
   "source": [
    "train_data.head()"
   ]
  },
  {
   "cell_type": "code",
   "execution_count": 18,
   "metadata": {
    "scrolled": true
   },
   "outputs": [
    {
     "data": {
      "text/plain": [
       "200     3241\n",
       "100     2557\n",
       "150     2462\n",
       "250      881\n",
       "300      537\n",
       "350      283\n",
       "400      282\n",
       "50       265\n",
       "600      154\n",
       "500      101\n",
       "450       63\n",
       "550       60\n",
       "650       55\n",
       "800       44\n",
       "750       38\n",
       "900       15\n",
       "700       15\n",
       "850       12\n",
       "1000      12\n",
       "1200       8\n",
       "950        4\n",
       "2050       1\n",
       "1400       1\n",
       "1150       1\n",
       "1100       1\n",
       "           1\n",
       "Name: Average_Cost, dtype: int64"
      ]
     },
     "execution_count": 18,
     "metadata": {},
     "output_type": "execute_result"
    }
   ],
   "source": [
    "train_data['Average_Cost'].value_counts()"
   ]
  },
  {
   "cell_type": "markdown",
   "metadata": {},
   "source": [
    "### Found 1 null value in Average_Cost feature while checking value_counts(). null value is at 6297th row."
   ]
  },
  {
   "cell_type": "code",
   "execution_count": 19,
   "metadata": {},
   "outputs": [
    {
     "name": "stdout",
     "output_type": "stream",
     "text": [
      "6290    200\n",
      "6291    100\n",
      "6292    200\n",
      "6293    200\n",
      "6294    200\n",
      "6295    200\n",
      "6296    100\n",
      "6297       \n",
      "6298    150\n",
      "6299    200\n",
      "6300    200\n",
      "Name: Average_Cost, dtype: object\n"
     ]
    }
   ],
   "source": [
    "print(train_data.loc[6290:6300,'Average_Cost'])"
   ]
  },
  {
   "cell_type": "code",
   "execution_count": 20,
   "metadata": {},
   "outputs": [
    {
     "name": "stdout",
     "output_type": "stream",
     "text": [
      "     Restaurant         Location  Cuisines Average_Cost Minimum_Order Rating  \\\n",
      "6297    ID_6472  Pune University         1                         50    NEW   \n",
      "\n",
      "     Votes Reviews Delivery_Time  \n",
      "6297     -       -    30 minutes  \n"
     ]
    }
   ],
   "source": [
    "print(train_data.iloc[[6297]])"
   ]
  },
  {
   "cell_type": "markdown",
   "metadata": {},
   "source": [
    "## Drop 6297 record because there are 3 missing values. (Average_Cost, Votes, Reviews)"
   ]
  },
  {
   "cell_type": "code",
   "execution_count": 21,
   "metadata": {},
   "outputs": [],
   "source": [
    "train_data = train_data.drop(index=6297)"
   ]
  },
  {
   "cell_type": "code",
   "execution_count": 22,
   "metadata": {},
   "outputs": [
    {
     "data": {
      "text/plain": [
       "(11093, 9)"
      ]
     },
     "execution_count": 22,
     "metadata": {},
     "output_type": "execute_result"
    }
   ],
   "source": [
    "train_data.shape"
   ]
  },
  {
   "cell_type": "code",
   "execution_count": 23,
   "metadata": {
    "scrolled": true
   },
   "outputs": [
    {
     "data": {
      "text/plain": [
       "200     3241\n",
       "100     2557\n",
       "150     2462\n",
       "250      881\n",
       "300      537\n",
       "350      283\n",
       "400      282\n",
       "50       265\n",
       "600      154\n",
       "500      101\n",
       "450       63\n",
       "550       60\n",
       "650       55\n",
       "800       44\n",
       "750       38\n",
       "700       15\n",
       "900       15\n",
       "850       12\n",
       "1000      12\n",
       "1200       8\n",
       "950        4\n",
       "1100       1\n",
       "1150       1\n",
       "2050       1\n",
       "1400       1\n",
       "Name: Average_Cost, dtype: int64"
      ]
     },
     "execution_count": 23,
     "metadata": {},
     "output_type": "execute_result"
    }
   ],
   "source": [
    "train_data['Average_Cost'].value_counts()"
   ]
  },
  {
   "cell_type": "code",
   "execution_count": 24,
   "metadata": {},
   "outputs": [
    {
     "data": {
      "text/plain": [
       "50     10117\n",
       "99       779\n",
       "0        158\n",
       "200        8\n",
       "199        8\n",
       "59         3\n",
       "350        3\n",
       "299        3\n",
       "300        2\n",
       "450        2\n",
       "79         2\n",
       "90         2\n",
       "400        1\n",
       "250        1\n",
       "240        1\n",
       "89         1\n",
       "500        1\n",
       "150        1\n",
       "Name: Minimum_Order, dtype: int64"
      ]
     },
     "execution_count": 24,
     "metadata": {},
     "output_type": "execute_result"
    }
   ],
   "source": [
    "train_data['Minimum_Order'].value_counts()"
   ]
  },
  {
   "cell_type": "code",
   "execution_count": 25,
   "metadata": {},
   "outputs": [],
   "source": [
    "# convert 'Average_Cost' and 'Minimum_Order' to \"int\"\n",
    "train_data['Average_Cost'] = train_data['Average_Cost'].astype(int)\n",
    "train_data['Minimum_Order'] = train_data['Minimum_Order'].astype(int)"
   ]
  },
  {
   "cell_type": "code",
   "execution_count": 26,
   "metadata": {},
   "outputs": [],
   "source": [
    "# Convert values of 'Minimum_Order' to the nearest value divisible by 50\n",
    "def rou(n): \n",
    "    # Smaller multiple \n",
    "    a = (n // 50) * 50\n",
    "      \n",
    "    # Larger multiple \n",
    "    b = a + 50\n",
    "      \n",
    "    # Return of closest of two \n",
    "    return (b if n - a > b - n else a) \n",
    "  \n",
    "# driver code \n",
    "train_data['Minimum_Order'] = train_data['Minimum_Order'].apply(lambda x: rou(x))"
   ]
  },
  {
   "cell_type": "code",
   "execution_count": 27,
   "metadata": {},
   "outputs": [
    {
     "data": {
      "text/plain": [
       "50     10120\n",
       "100      784\n",
       "0        158\n",
       "200       16\n",
       "300        5\n",
       "350        3\n",
       "450        2\n",
       "250        2\n",
       "150        1\n",
       "500        1\n",
       "400        1\n",
       "Name: Minimum_Order, dtype: int64"
      ]
     },
     "execution_count": 27,
     "metadata": {},
     "output_type": "execute_result"
    }
   ],
   "source": [
    "train_data['Minimum_Order'].value_counts()"
   ]
  },
  {
   "cell_type": "code",
   "execution_count": 28,
   "metadata": {
    "scrolled": true
   },
   "outputs": [
    {
     "data": {
      "text/plain": [
       "-                     1191\n",
       "3.7                    869\n",
       "3.6                    846\n",
       "3.5                    818\n",
       "3.8                    800\n",
       "NEW                    757\n",
       "3.9                    749\n",
       "3.4                    718\n",
       "3.3                    675\n",
       "4.0                    614\n",
       "3.2                    511\n",
       "4.1                    459\n",
       "3.1                    411\n",
       "3.0                    302\n",
       "4.2                    272\n",
       "4.3                    247\n",
       "2.9                    199\n",
       "2.8                    157\n",
       "4.4                    142\n",
       "4.5                     78\n",
       "2.7                     76\n",
       "2.6                     42\n",
       "4.6                     41\n",
       "4.7                     36\n",
       "2.5                     27\n",
       "4.8                     13\n",
       "2.4                     13\n",
       "Opening Soon            12\n",
       "4.9                      8\n",
       "2.3                      6\n",
       "Temporarily Closed       2\n",
       "2.1                      1\n",
       "2.2                      1\n",
       "Name: Rating, dtype: int64"
      ]
     },
     "execution_count": 28,
     "metadata": {},
     "output_type": "execute_result"
    }
   ],
   "source": [
    "train_data['Rating'].value_counts()"
   ]
  },
  {
   "cell_type": "code",
   "execution_count": 29,
   "metadata": {},
   "outputs": [],
   "source": [
    "# In Rating feature, converting '-', 'NEW', 'Opening Soon' and 'Temporarily Closed' values to 0(zero)\n",
    "train_data['Rating'] = train_data['Rating'].str.replace('-', '0').replace('NEW','0').replace('Opening Soon','0').replace('Temporarily Closed','0')"
   ]
  },
  {
   "cell_type": "code",
   "execution_count": 30,
   "metadata": {
    "scrolled": true
   },
   "outputs": [
    {
     "data": {
      "text/plain": [
       "0      1962\n",
       "3.7     869\n",
       "3.6     846\n",
       "3.5     818\n",
       "3.8     800\n",
       "3.9     749\n",
       "3.4     718\n",
       "3.3     675\n",
       "4.0     614\n",
       "3.2     511\n",
       "4.1     459\n",
       "3.1     411\n",
       "3.0     302\n",
       "4.2     272\n",
       "4.3     247\n",
       "2.9     199\n",
       "2.8     157\n",
       "4.4     142\n",
       "4.5      78\n",
       "2.7      76\n",
       "2.6      42\n",
       "4.6      41\n",
       "4.7      36\n",
       "2.5      27\n",
       "4.8      13\n",
       "2.4      13\n",
       "4.9       8\n",
       "2.3       6\n",
       "2.2       1\n",
       "2.1       1\n",
       "Name: Rating, dtype: int64"
      ]
     },
     "execution_count": 30,
     "metadata": {},
     "output_type": "execute_result"
    }
   ],
   "source": [
    "train_data['Rating'].value_counts()"
   ]
  },
  {
   "cell_type": "code",
   "execution_count": 31,
   "metadata": {},
   "outputs": [],
   "source": [
    "# Converting 'Rating' to float\n",
    "train_data['Rating'] = train_data['Rating'].astype(float)"
   ]
  },
  {
   "cell_type": "code",
   "execution_count": 32,
   "metadata": {
    "scrolled": true
   },
   "outputs": [
    {
     "data": {
      "text/plain": [
       "-       2073\n",
       "4        248\n",
       "6        200\n",
       "7        182\n",
       "9        181\n",
       "        ... \n",
       "1254       1\n",
       "5116       1\n",
       "754        1\n",
       "935        1\n",
       "945        1\n",
       "Name: Votes, Length: 1103, dtype: int64"
      ]
     },
     "execution_count": 32,
     "metadata": {},
     "output_type": "execute_result"
    }
   ],
   "source": [
    "train_data['Votes'].value_counts()"
   ]
  },
  {
   "cell_type": "code",
   "execution_count": 33,
   "metadata": {},
   "outputs": [],
   "source": [
    "#  In Votes feature, converting '-' value to 0(zero)\n",
    "train_data['Votes'] = train_data['Votes'].str.replace('-', '0')"
   ]
  },
  {
   "cell_type": "code",
   "execution_count": 34,
   "metadata": {},
   "outputs": [],
   "source": [
    "# Converting Votes to 'int'\n",
    "train_data['Votes'] = train_data['Votes'].astype(int)"
   ]
  },
  {
   "cell_type": "code",
   "execution_count": 35,
   "metadata": {},
   "outputs": [],
   "source": [
    "# Convert values of 'Votes to the nearest value divisible by 50\n",
    "def rou(n): \n",
    "    # Smaller multiple \n",
    "    a = (n // 50) * 50\n",
    "      \n",
    "    # Larger multiple \n",
    "    b = a + 50\n",
    "      \n",
    "    # Return of closest of two \n",
    "    return (b if n - a > b - n else a) \n",
    "  \n",
    "# driver code \n",
    "train_data['Votes'] = train_data['Votes'].apply(lambda x: rou(x))"
   ]
  },
  {
   "cell_type": "code",
   "execution_count": 36,
   "metadata": {
    "scrolled": true
   },
   "outputs": [
    {
     "data": {
      "text/plain": [
       "0       4840\n",
       "50      2101\n",
       "100     1013\n",
       "150      553\n",
       "200      391\n",
       "        ... \n",
       "7150       1\n",
       "3700       1\n",
       "5100       1\n",
       "2750       1\n",
       "4150       1\n",
       "Name: Votes, Length: 100, dtype: int64"
      ]
     },
     "execution_count": 36,
     "metadata": {},
     "output_type": "execute_result"
    }
   ],
   "source": [
    "train_data['Votes'].value_counts()"
   ]
  },
  {
   "cell_type": "code",
   "execution_count": 37,
   "metadata": {
    "scrolled": true
   },
   "outputs": [
    {
     "data": {
      "text/plain": [
       "-       2311\n",
       "2        420\n",
       "3        387\n",
       "1        381\n",
       "4        356\n",
       "        ... \n",
       "544        1\n",
       "1617       1\n",
       "938        1\n",
       "435        1\n",
       "459        1\n",
       "Name: Reviews, Length: 761, dtype: int64"
      ]
     },
     "execution_count": 37,
     "metadata": {},
     "output_type": "execute_result"
    }
   ],
   "source": [
    "train_data['Reviews'].value_counts()"
   ]
  },
  {
   "cell_type": "code",
   "execution_count": 38,
   "metadata": {},
   "outputs": [],
   "source": [
    "# In Reviews feature, converting '-' to 0(zero)\n",
    "train_data['Reviews'] = train_data['Reviews'].str.replace('-', '0')"
   ]
  },
  {
   "cell_type": "code",
   "execution_count": 39,
   "metadata": {},
   "outputs": [],
   "source": [
    "# Converting Reviews to 'int'\n",
    "train_data['Reviews'] = train_data['Reviews'].astype(int)"
   ]
  },
  {
   "cell_type": "code",
   "execution_count": 40,
   "metadata": {},
   "outputs": [],
   "source": [
    "# Convert values of Reviews to the nearest value divisible by 50\n",
    "def rou(n): \n",
    "    # Smaller multiple \n",
    "    a = (n // 50) * 50\n",
    "      \n",
    "    # Larger multiple \n",
    "    b = a + 50\n",
    "      \n",
    "    # Return of closest of two \n",
    "    return (b if n - a > b - n else a) \n",
    "  \n",
    "# driver code \n",
    "train_data['Reviews'] = train_data['Reviews'].apply(lambda x: rou(x))\n"
   ]
  },
  {
   "cell_type": "code",
   "execution_count": 41,
   "metadata": {
    "scrolled": true
   },
   "outputs": [
    {
     "data": {
      "text/plain": [
       "0       6637\n",
       "50      1962\n",
       "100      743\n",
       "150      397\n",
       "200      247\n",
       "        ... \n",
       "4950       1\n",
       "5550       1\n",
       "2700       1\n",
       "2900       1\n",
       "3750       1\n",
       "Name: Reviews, Length: 63, dtype: int64"
      ]
     },
     "execution_count": 41,
     "metadata": {},
     "output_type": "execute_result"
    }
   ],
   "source": [
    "train_data['Reviews'].value_counts()"
   ]
  },
  {
   "cell_type": "code",
   "execution_count": 42,
   "metadata": {},
   "outputs": [
    {
     "data": {
      "text/plain": [
       "30 minutes     7405\n",
       "45 minutes     2665\n",
       "65 minutes      923\n",
       "120 minutes      62\n",
       "20 minutes       20\n",
       "80 minutes       14\n",
       "10 minutes        4\n",
       "Name: Delivery_Time, dtype: int64"
      ]
     },
     "execution_count": 42,
     "metadata": {},
     "output_type": "execute_result"
    }
   ],
   "source": [
    "train_data['Delivery_Time'].value_counts()"
   ]
  },
  {
   "cell_type": "code",
   "execution_count": 43,
   "metadata": {},
   "outputs": [
    {
     "data": {
      "text/plain": [
       "Restaurant        object\n",
       "Location          object\n",
       "Cuisines           int64\n",
       "Average_Cost       int64\n",
       "Minimum_Order      int64\n",
       "Rating           float64\n",
       "Votes              int64\n",
       "Reviews            int64\n",
       "Delivery_Time     object\n",
       "dtype: object"
      ]
     },
     "execution_count": 43,
     "metadata": {},
     "output_type": "execute_result"
    }
   ],
   "source": [
    "train_data.dtypes"
   ]
  },
  {
   "cell_type": "code",
   "execution_count": 44,
   "metadata": {},
   "outputs": [
    {
     "data": {
      "text/plain": [
       "Index(['Restaurant', 'Location', 'Cuisines', 'Average_Cost', 'Minimum_Order',\n",
       "       'Rating', 'Votes', 'Reviews', 'Delivery_Time'],\n",
       "      dtype='object')"
      ]
     },
     "execution_count": 44,
     "metadata": {},
     "output_type": "execute_result"
    }
   ],
   "source": [
    "train_data.columns"
   ]
  },
  {
   "cell_type": "code",
   "execution_count": 45,
   "metadata": {},
   "outputs": [],
   "source": [
    "# Droping 'Restaurant' and 'Location' features from training data set\n",
    "train_data = train_data.drop(['Restaurant','Location'],axis=1)"
   ]
  },
  {
   "cell_type": "code",
   "execution_count": 46,
   "metadata": {},
   "outputs": [
    {
     "data": {
      "text/plain": [
       "Index(['Cuisines', 'Average_Cost', 'Minimum_Order', 'Rating', 'Votes',\n",
       "       'Reviews', 'Delivery_Time'],\n",
       "      dtype='object')"
      ]
     },
     "execution_count": 46,
     "metadata": {},
     "output_type": "execute_result"
    }
   ],
   "source": [
    "train_data.columns"
   ]
  },
  {
   "cell_type": "markdown",
   "metadata": {},
   "source": [
    "## Feature Engnieering of test data set"
   ]
  },
  {
   "cell_type": "code",
   "execution_count": 47,
   "metadata": {},
   "outputs": [
    {
     "data": {
      "text/html": [
       "<div>\n",
       "<style scoped>\n",
       "    .dataframe tbody tr th:only-of-type {\n",
       "        vertical-align: middle;\n",
       "    }\n",
       "\n",
       "    .dataframe tbody tr th {\n",
       "        vertical-align: top;\n",
       "    }\n",
       "\n",
       "    .dataframe thead th {\n",
       "        text-align: right;\n",
       "    }\n",
       "</style>\n",
       "<table border=\"1\" class=\"dataframe\">\n",
       "  <thead>\n",
       "    <tr style=\"text-align: right;\">\n",
       "      <th></th>\n",
       "      <th>Restaurant</th>\n",
       "      <th>Location</th>\n",
       "      <th>Cuisines</th>\n",
       "      <th>Average_Cost</th>\n",
       "      <th>Minimum_Order</th>\n",
       "      <th>Rating</th>\n",
       "      <th>Votes</th>\n",
       "      <th>Reviews</th>\n",
       "    </tr>\n",
       "  </thead>\n",
       "  <tbody>\n",
       "    <tr>\n",
       "      <td>0</td>\n",
       "      <td>ID_2842</td>\n",
       "      <td>Mico Layout, Stage 2, BTM Layout,Bangalore</td>\n",
       "      <td>3</td>\n",
       "      <td>₹350</td>\n",
       "      <td>₹50</td>\n",
       "      <td>4.2</td>\n",
       "      <td>361</td>\n",
       "      <td>225</td>\n",
       "    </tr>\n",
       "    <tr>\n",
       "      <td>1</td>\n",
       "      <td>ID_730</td>\n",
       "      <td>Mico Layout, Stage 2, BTM Layout,Bangalore</td>\n",
       "      <td>2</td>\n",
       "      <td>₹100</td>\n",
       "      <td>₹50</td>\n",
       "      <td>NEW</td>\n",
       "      <td>-</td>\n",
       "      <td>-</td>\n",
       "    </tr>\n",
       "    <tr>\n",
       "      <td>2</td>\n",
       "      <td>ID_4620</td>\n",
       "      <td>Sector 1, Noida</td>\n",
       "      <td>1</td>\n",
       "      <td>₹100</td>\n",
       "      <td>₹50</td>\n",
       "      <td>3.6</td>\n",
       "      <td>36</td>\n",
       "      <td>16</td>\n",
       "    </tr>\n",
       "    <tr>\n",
       "      <td>3</td>\n",
       "      <td>ID_5470</td>\n",
       "      <td>Babarpur, New Delhi, Delhi</td>\n",
       "      <td>5</td>\n",
       "      <td>₹200</td>\n",
       "      <td>₹50</td>\n",
       "      <td>3.6</td>\n",
       "      <td>66</td>\n",
       "      <td>33</td>\n",
       "    </tr>\n",
       "    <tr>\n",
       "      <td>4</td>\n",
       "      <td>ID_3249</td>\n",
       "      <td>Sector 1, Noida</td>\n",
       "      <td>2</td>\n",
       "      <td>₹150</td>\n",
       "      <td>₹50</td>\n",
       "      <td>2.9</td>\n",
       "      <td>38</td>\n",
       "      <td>14</td>\n",
       "    </tr>\n",
       "  </tbody>\n",
       "</table>\n",
       "</div>"
      ],
      "text/plain": [
       "  Restaurant                                    Location  Cuisines  \\\n",
       "0    ID_2842  Mico Layout, Stage 2, BTM Layout,Bangalore         3   \n",
       "1     ID_730  Mico Layout, Stage 2, BTM Layout,Bangalore         2   \n",
       "2    ID_4620                             Sector 1, Noida         1   \n",
       "3    ID_5470                  Babarpur, New Delhi, Delhi         5   \n",
       "4    ID_3249                             Sector 1, Noida         2   \n",
       "\n",
       "  Average_Cost Minimum_Order Rating Votes Reviews  \n",
       "0         ₹350           ₹50    4.2   361     225  \n",
       "1         ₹100           ₹50    NEW     -       -  \n",
       "2         ₹100           ₹50    3.6    36      16  \n",
       "3         ₹200           ₹50    3.6    66      33  \n",
       "4         ₹150           ₹50    2.9    38      14  "
      ]
     },
     "execution_count": 47,
     "metadata": {},
     "output_type": "execute_result"
    }
   ],
   "source": [
    "# find number of food provide by the restaurant in 'Cuisines' column. and convert into interger \n",
    "test_data['Cuisines'] = test_data['Cuisines'].str.split(\",\")\n",
    "test_data['Cuisines'] = test_data['Cuisines'].apply(lambda x : len(x))\n",
    "test_data.head()"
   ]
  },
  {
   "cell_type": "code",
   "execution_count": 48,
   "metadata": {
    "scrolled": true
   },
   "outputs": [],
   "source": [
    "# Removing Rs sign from 'Average_Cost' and 'Minimum_Order'\n",
    "test_data['Average_Cost'] = test_data['Average_Cost'].str.replace(r'\\D', '')\n",
    "test_data['Minimum_Order'] = test_data['Minimum_Order'].str.replace(r'\\D', '')"
   ]
  },
  {
   "cell_type": "code",
   "execution_count": 49,
   "metadata": {
    "scrolled": false
   },
   "outputs": [
    {
     "data": {
      "text/html": [
       "<div>\n",
       "<style scoped>\n",
       "    .dataframe tbody tr th:only-of-type {\n",
       "        vertical-align: middle;\n",
       "    }\n",
       "\n",
       "    .dataframe tbody tr th {\n",
       "        vertical-align: top;\n",
       "    }\n",
       "\n",
       "    .dataframe thead th {\n",
       "        text-align: right;\n",
       "    }\n",
       "</style>\n",
       "<table border=\"1\" class=\"dataframe\">\n",
       "  <thead>\n",
       "    <tr style=\"text-align: right;\">\n",
       "      <th></th>\n",
       "      <th>Restaurant</th>\n",
       "      <th>Location</th>\n",
       "      <th>Cuisines</th>\n",
       "      <th>Average_Cost</th>\n",
       "      <th>Minimum_Order</th>\n",
       "      <th>Rating</th>\n",
       "      <th>Votes</th>\n",
       "      <th>Reviews</th>\n",
       "    </tr>\n",
       "  </thead>\n",
       "  <tbody>\n",
       "    <tr>\n",
       "      <td>0</td>\n",
       "      <td>ID_2842</td>\n",
       "      <td>Mico Layout, Stage 2, BTM Layout,Bangalore</td>\n",
       "      <td>3</td>\n",
       "      <td>350</td>\n",
       "      <td>50</td>\n",
       "      <td>4.2</td>\n",
       "      <td>361</td>\n",
       "      <td>225</td>\n",
       "    </tr>\n",
       "    <tr>\n",
       "      <td>1</td>\n",
       "      <td>ID_730</td>\n",
       "      <td>Mico Layout, Stage 2, BTM Layout,Bangalore</td>\n",
       "      <td>2</td>\n",
       "      <td>100</td>\n",
       "      <td>50</td>\n",
       "      <td>NEW</td>\n",
       "      <td>-</td>\n",
       "      <td>-</td>\n",
       "    </tr>\n",
       "    <tr>\n",
       "      <td>2</td>\n",
       "      <td>ID_4620</td>\n",
       "      <td>Sector 1, Noida</td>\n",
       "      <td>1</td>\n",
       "      <td>100</td>\n",
       "      <td>50</td>\n",
       "      <td>3.6</td>\n",
       "      <td>36</td>\n",
       "      <td>16</td>\n",
       "    </tr>\n",
       "    <tr>\n",
       "      <td>3</td>\n",
       "      <td>ID_5470</td>\n",
       "      <td>Babarpur, New Delhi, Delhi</td>\n",
       "      <td>5</td>\n",
       "      <td>200</td>\n",
       "      <td>50</td>\n",
       "      <td>3.6</td>\n",
       "      <td>66</td>\n",
       "      <td>33</td>\n",
       "    </tr>\n",
       "    <tr>\n",
       "      <td>4</td>\n",
       "      <td>ID_3249</td>\n",
       "      <td>Sector 1, Noida</td>\n",
       "      <td>2</td>\n",
       "      <td>150</td>\n",
       "      <td>50</td>\n",
       "      <td>2.9</td>\n",
       "      <td>38</td>\n",
       "      <td>14</td>\n",
       "    </tr>\n",
       "  </tbody>\n",
       "</table>\n",
       "</div>"
      ],
      "text/plain": [
       "  Restaurant                                    Location  Cuisines  \\\n",
       "0    ID_2842  Mico Layout, Stage 2, BTM Layout,Bangalore         3   \n",
       "1     ID_730  Mico Layout, Stage 2, BTM Layout,Bangalore         2   \n",
       "2    ID_4620                             Sector 1, Noida         1   \n",
       "3    ID_5470                  Babarpur, New Delhi, Delhi         5   \n",
       "4    ID_3249                             Sector 1, Noida         2   \n",
       "\n",
       "  Average_Cost Minimum_Order Rating Votes Reviews  \n",
       "0          350            50    4.2   361     225  \n",
       "1          100            50    NEW     -       -  \n",
       "2          100            50    3.6    36      16  \n",
       "3          200            50    3.6    66      33  \n",
       "4          150            50    2.9    38      14  "
      ]
     },
     "execution_count": 49,
     "metadata": {},
     "output_type": "execute_result"
    }
   ],
   "source": [
    "test_data.head()"
   ]
  },
  {
   "cell_type": "code",
   "execution_count": 50,
   "metadata": {},
   "outputs": [
    {
     "data": {
      "text/plain": [
       "200     820\n",
       "100     664\n",
       "150     589\n",
       "250     223\n",
       "300     173\n",
       "50       72\n",
       "350      71\n",
       "400      64\n",
       "600      30\n",
       "500      15\n",
       "550      13\n",
       "450       9\n",
       "650       8\n",
       "800       6\n",
       "850       4\n",
       "1000      4\n",
       "700       4\n",
       "750       3\n",
       "1200      2\n",
       "Name: Average_Cost, dtype: int64"
      ]
     },
     "execution_count": 50,
     "metadata": {},
     "output_type": "execute_result"
    }
   ],
   "source": [
    "test_data['Average_Cost'].value_counts()"
   ]
  },
  {
   "cell_type": "code",
   "execution_count": 51,
   "metadata": {},
   "outputs": [
    {
     "data": {
      "text/plain": [
       "50     2556\n",
       "99      177\n",
       "0        30\n",
       "199       5\n",
       "200       2\n",
       "399       1\n",
       "500       1\n",
       "89        1\n",
       "149       1\n",
       "Name: Minimum_Order, dtype: int64"
      ]
     },
     "execution_count": 51,
     "metadata": {},
     "output_type": "execute_result"
    }
   ],
   "source": [
    "test_data['Minimum_Order'].value_counts()"
   ]
  },
  {
   "cell_type": "code",
   "execution_count": 52,
   "metadata": {},
   "outputs": [],
   "source": [
    "# Converting 'Average_Cost' and 'Minimum_Order' to int\n",
    "test_data['Average_Cost'] = test_data['Average_Cost'].astype(int)\n",
    "test_data['Minimum_Order'] = test_data['Minimum_Order'].astype(int)"
   ]
  },
  {
   "cell_type": "code",
   "execution_count": 53,
   "metadata": {},
   "outputs": [],
   "source": [
    "# Convert values of Minimum_Order to the nearest value divisible by 50\n",
    "def rou(n): \n",
    "    # Smaller multiple \n",
    "    a = (n // 50) * 50\n",
    "      \n",
    "    # Larger multiple \n",
    "    b = a + 50\n",
    "      \n",
    "    # Return of closest of two \n",
    "    return (b if n - a > b - n else a) \n",
    "  \n",
    "# driver code \n",
    "test_data['Minimum_Order'] = test_data['Minimum_Order'].apply(lambda x: rou(x))"
   ]
  },
  {
   "cell_type": "code",
   "execution_count": 54,
   "metadata": {},
   "outputs": [
    {
     "data": {
      "text/plain": [
       "50     2556\n",
       "100     178\n",
       "0        30\n",
       "200       7\n",
       "500       1\n",
       "400       1\n",
       "150       1\n",
       "Name: Minimum_Order, dtype: int64"
      ]
     },
     "execution_count": 54,
     "metadata": {},
     "output_type": "execute_result"
    }
   ],
   "source": [
    "test_data['Minimum_Order'].value_counts()"
   ]
  },
  {
   "cell_type": "code",
   "execution_count": 55,
   "metadata": {
    "scrolled": true
   },
   "outputs": [
    {
     "data": {
      "text/plain": [
       "-               305\n",
       "3.6             223\n",
       "3.9             216\n",
       "3.7             212\n",
       "NEW             200\n",
       "3.5             197\n",
       "3.4             185\n",
       "3.8             183\n",
       "3.3             153\n",
       "4.0             141\n",
       "3.2             129\n",
       "3.1             120\n",
       "4.1             115\n",
       "4.2              70\n",
       "3.0              65\n",
       "2.9              57\n",
       "4.3              52\n",
       "2.8              41\n",
       "4.4              29\n",
       "2.7              22\n",
       "4.5              18\n",
       "2.6               9\n",
       "4.6               7\n",
       "4.7               6\n",
       "2.5               6\n",
       "2.4               5\n",
       "4.8               3\n",
       "Opening Soon      2\n",
       "2.3               2\n",
       "2.1               1\n",
       "Name: Rating, dtype: int64"
      ]
     },
     "execution_count": 55,
     "metadata": {},
     "output_type": "execute_result"
    }
   ],
   "source": [
    "test_data['Rating'].value_counts()"
   ]
  },
  {
   "cell_type": "code",
   "execution_count": 56,
   "metadata": {},
   "outputs": [],
   "source": [
    "# In Rating feature, converting '-', 'NEW', 'Opening Soon'  values to 0(zero)\n",
    "test_data['Rating'] = test_data['Rating'].str.replace('-', '0').replace('NEW','0').replace('Opening Soon','0')"
   ]
  },
  {
   "cell_type": "code",
   "execution_count": 57,
   "metadata": {
    "scrolled": true
   },
   "outputs": [
    {
     "data": {
      "text/plain": [
       "0      507\n",
       "3.6    223\n",
       "3.9    216\n",
       "3.7    212\n",
       "3.5    197\n",
       "3.4    185\n",
       "3.8    183\n",
       "3.3    153\n",
       "4.0    141\n",
       "3.2    129\n",
       "3.1    120\n",
       "4.1    115\n",
       "4.2     70\n",
       "3.0     65\n",
       "2.9     57\n",
       "4.3     52\n",
       "2.8     41\n",
       "4.4     29\n",
       "2.7     22\n",
       "4.5     18\n",
       "2.6      9\n",
       "4.6      7\n",
       "2.5      6\n",
       "4.7      6\n",
       "2.4      5\n",
       "4.8      3\n",
       "2.3      2\n",
       "2.1      1\n",
       "Name: Rating, dtype: int64"
      ]
     },
     "execution_count": 57,
     "metadata": {},
     "output_type": "execute_result"
    }
   ],
   "source": [
    "test_data['Rating'].value_counts()"
   ]
  },
  {
   "cell_type": "code",
   "execution_count": 58,
   "metadata": {},
   "outputs": [],
   "source": [
    "# Convert 'Rating' to float\n",
    "test_data['Rating'] = test_data['Rating'].astype(float)"
   ]
  },
  {
   "cell_type": "code",
   "execution_count": 59,
   "metadata": {
    "scrolled": true
   },
   "outputs": [
    {
     "data": {
      "text/plain": [
       "-      542\n",
       "7       60\n",
       "9       57\n",
       "6       55\n",
       "5       51\n",
       "      ... \n",
       "882      1\n",
       "785      1\n",
       "929      1\n",
       "511      1\n",
       "527      1\n",
       "Name: Votes, Length: 580, dtype: int64"
      ]
     },
     "execution_count": 59,
     "metadata": {},
     "output_type": "execute_result"
    }
   ],
   "source": [
    "test_data['Votes'].value_counts()"
   ]
  },
  {
   "cell_type": "code",
   "execution_count": 60,
   "metadata": {},
   "outputs": [],
   "source": [
    "# In Votes feature, converting '-' value to 0(zero)\n",
    "test_data['Votes'] = test_data['Votes'].str.replace('-', '0')"
   ]
  },
  {
   "cell_type": "code",
   "execution_count": 61,
   "metadata": {
    "scrolled": true
   },
   "outputs": [
    {
     "data": {
      "text/plain": [
       "0       542\n",
       "7        60\n",
       "9        57\n",
       "6        55\n",
       "5        51\n",
       "       ... \n",
       "1409      1\n",
       "574       1\n",
       "297       1\n",
       "3577      1\n",
       "153       1\n",
       "Name: Votes, Length: 580, dtype: int64"
      ]
     },
     "execution_count": 61,
     "metadata": {},
     "output_type": "execute_result"
    }
   ],
   "source": [
    "test_data['Votes'].value_counts()"
   ]
  },
  {
   "cell_type": "code",
   "execution_count": 62,
   "metadata": {},
   "outputs": [],
   "source": [
    "# Convert Votes to int\n",
    "test_data['Votes'] = test_data['Votes'].astype(int)"
   ]
  },
  {
   "cell_type": "code",
   "execution_count": 63,
   "metadata": {},
   "outputs": [],
   "source": [
    "# Convert values of Votes to the nearest value divisible by 50\n",
    "def rou(n): \n",
    "    # Smaller multiple \n",
    "    a = (n // 50) * 50\n",
    "      \n",
    "    # Larger multiple \n",
    "    b = a + 50\n",
    "      \n",
    "    # Return of closest of two \n",
    "    return (b if n - a > b - n else a) \n",
    "  \n",
    "# driver code \n",
    "test_data['Votes'] = test_data['Votes'].apply(lambda x: rou(x))"
   ]
  },
  {
   "cell_type": "code",
   "execution_count": 64,
   "metadata": {
    "scrolled": true
   },
   "outputs": [
    {
     "data": {
      "text/plain": [
       "0       1250\n",
       "50       501\n",
       "100      257\n",
       "150      145\n",
       "200      104\n",
       "        ... \n",
       "5200       1\n",
       "1800       1\n",
       "1750       1\n",
       "7800       1\n",
       "3750       1\n",
       "Name: Votes, Length: 64, dtype: int64"
      ]
     },
     "execution_count": 64,
     "metadata": {},
     "output_type": "execute_result"
    }
   ],
   "source": [
    "test_data['Votes'].value_counts()"
   ]
  },
  {
   "cell_type": "code",
   "execution_count": 65,
   "metadata": {
    "scrolled": true
   },
   "outputs": [
    {
     "data": {
      "text/plain": [
       "-       593\n",
       "2       131\n",
       "1       102\n",
       "3        79\n",
       "4        72\n",
       "       ... \n",
       "246       1\n",
       "1005      1\n",
       "3503      1\n",
       "170       1\n",
       "135       1\n",
       "Name: Reviews, Length: 392, dtype: int64"
      ]
     },
     "execution_count": 65,
     "metadata": {},
     "output_type": "execute_result"
    }
   ],
   "source": [
    "test_data['Reviews'].value_counts()"
   ]
  },
  {
   "cell_type": "code",
   "execution_count": 66,
   "metadata": {},
   "outputs": [],
   "source": [
    "# In Reviews feature, converting '-' value to 0(zero)\n",
    "test_data['Reviews'] = test_data['Reviews'].str.replace('-', '0')"
   ]
  },
  {
   "cell_type": "code",
   "execution_count": 67,
   "metadata": {},
   "outputs": [],
   "source": [
    "# Convert Reviews to int\n",
    "test_data['Reviews'] = test_data['Reviews'].astype(int)"
   ]
  },
  {
   "cell_type": "code",
   "execution_count": 68,
   "metadata": {},
   "outputs": [],
   "source": [
    "# Convert values of Reviews to the nearest value divisible by 50\n",
    "def rou(n): \n",
    "    # Smaller multiple \n",
    "    a = (n // 50) * 50\n",
    "      \n",
    "    # Larger multiple \n",
    "    b = a + 50\n",
    "      \n",
    "    # Return of closest of two \n",
    "    return (b if n - a > b - n else a) \n",
    "  \n",
    "# driver code \n",
    "test_data['Reviews'] = test_data['Reviews'].apply(lambda x: rou(x))"
   ]
  },
  {
   "cell_type": "code",
   "execution_count": 69,
   "metadata": {
    "scrolled": true
   },
   "outputs": [
    {
     "data": {
      "text/plain": [
       "0       1681\n",
       "50       489\n",
       "100      188\n",
       "150      108\n",
       "200       62\n",
       "250       44\n",
       "300       36\n",
       "350       29\n",
       "400       17\n",
       "450       16\n",
       "550       12\n",
       "600       11\n",
       "650       11\n",
       "700        6\n",
       "1000       5\n",
       "900        5\n",
       "500        4\n",
       "750        4\n",
       "1650       3\n",
       "1600       3\n",
       "1450       3\n",
       "1350       3\n",
       "800        3\n",
       "850        3\n",
       "1200       2\n",
       "1400       2\n",
       "1550       2\n",
       "1700       2\n",
       "1900       2\n",
       "2150       2\n",
       "2300       2\n",
       "1050       1\n",
       "2400       1\n",
       "3500       1\n",
       "2900       1\n",
       "2650       1\n",
       "2550       1\n",
       "2450       1\n",
       "2050       1\n",
       "1100       1\n",
       "1500       1\n",
       "1300       1\n",
       "1250       1\n",
       "3700       1\n",
       "3850       1\n",
       "Name: Reviews, dtype: int64"
      ]
     },
     "execution_count": 69,
     "metadata": {},
     "output_type": "execute_result"
    }
   ],
   "source": [
    "test_data['Reviews'].value_counts()"
   ]
  },
  {
   "cell_type": "code",
   "execution_count": 70,
   "metadata": {},
   "outputs": [],
   "source": [
    "# Drop 'Restaurant' and 'Location' from test data set\n",
    "test_data = test_data.drop(['Restaurant','Location'],axis=1)"
   ]
  },
  {
   "cell_type": "markdown",
   "metadata": {},
   "source": [
    "## Final Train and Test data set"
   ]
  },
  {
   "cell_type": "code",
   "execution_count": 71,
   "metadata": {},
   "outputs": [
    {
     "data": {
      "text/html": [
       "<div>\n",
       "<style scoped>\n",
       "    .dataframe tbody tr th:only-of-type {\n",
       "        vertical-align: middle;\n",
       "    }\n",
       "\n",
       "    .dataframe tbody tr th {\n",
       "        vertical-align: top;\n",
       "    }\n",
       "\n",
       "    .dataframe thead th {\n",
       "        text-align: right;\n",
       "    }\n",
       "</style>\n",
       "<table border=\"1\" class=\"dataframe\">\n",
       "  <thead>\n",
       "    <tr style=\"text-align: right;\">\n",
       "      <th></th>\n",
       "      <th>Cuisines</th>\n",
       "      <th>Average_Cost</th>\n",
       "      <th>Minimum_Order</th>\n",
       "      <th>Rating</th>\n",
       "      <th>Votes</th>\n",
       "      <th>Reviews</th>\n",
       "      <th>Delivery_Time</th>\n",
       "    </tr>\n",
       "  </thead>\n",
       "  <tbody>\n",
       "    <tr>\n",
       "      <td>0</td>\n",
       "      <td>5</td>\n",
       "      <td>200</td>\n",
       "      <td>50</td>\n",
       "      <td>3.5</td>\n",
       "      <td>0</td>\n",
       "      <td>0</td>\n",
       "      <td>30 minutes</td>\n",
       "    </tr>\n",
       "    <tr>\n",
       "      <td>1</td>\n",
       "      <td>2</td>\n",
       "      <td>100</td>\n",
       "      <td>50</td>\n",
       "      <td>3.5</td>\n",
       "      <td>0</td>\n",
       "      <td>0</td>\n",
       "      <td>30 minutes</td>\n",
       "    </tr>\n",
       "    <tr>\n",
       "      <td>2</td>\n",
       "      <td>3</td>\n",
       "      <td>150</td>\n",
       "      <td>50</td>\n",
       "      <td>3.6</td>\n",
       "      <td>100</td>\n",
       "      <td>50</td>\n",
       "      <td>65 minutes</td>\n",
       "    </tr>\n",
       "    <tr>\n",
       "      <td>3</td>\n",
       "      <td>3</td>\n",
       "      <td>250</td>\n",
       "      <td>100</td>\n",
       "      <td>3.7</td>\n",
       "      <td>200</td>\n",
       "      <td>100</td>\n",
       "      <td>30 minutes</td>\n",
       "    </tr>\n",
       "    <tr>\n",
       "      <td>4</td>\n",
       "      <td>2</td>\n",
       "      <td>200</td>\n",
       "      <td>100</td>\n",
       "      <td>3.2</td>\n",
       "      <td>500</td>\n",
       "      <td>250</td>\n",
       "      <td>65 minutes</td>\n",
       "    </tr>\n",
       "  </tbody>\n",
       "</table>\n",
       "</div>"
      ],
      "text/plain": [
       "   Cuisines  Average_Cost  Minimum_Order  Rating  Votes  Reviews Delivery_Time\n",
       "0         5           200             50     3.5      0        0    30 minutes\n",
       "1         2           100             50     3.5      0        0    30 minutes\n",
       "2         3           150             50     3.6    100       50    65 minutes\n",
       "3         3           250            100     3.7    200      100    30 minutes\n",
       "4         2           200            100     3.2    500      250    65 minutes"
      ]
     },
     "execution_count": 71,
     "metadata": {},
     "output_type": "execute_result"
    }
   ],
   "source": [
    "train_data.head()"
   ]
  },
  {
   "cell_type": "code",
   "execution_count": 72,
   "metadata": {},
   "outputs": [
    {
     "data": {
      "text/html": [
       "<div>\n",
       "<style scoped>\n",
       "    .dataframe tbody tr th:only-of-type {\n",
       "        vertical-align: middle;\n",
       "    }\n",
       "\n",
       "    .dataframe tbody tr th {\n",
       "        vertical-align: top;\n",
       "    }\n",
       "\n",
       "    .dataframe thead th {\n",
       "        text-align: right;\n",
       "    }\n",
       "</style>\n",
       "<table border=\"1\" class=\"dataframe\">\n",
       "  <thead>\n",
       "    <tr style=\"text-align: right;\">\n",
       "      <th></th>\n",
       "      <th>Cuisines</th>\n",
       "      <th>Average_Cost</th>\n",
       "      <th>Minimum_Order</th>\n",
       "      <th>Rating</th>\n",
       "      <th>Votes</th>\n",
       "      <th>Reviews</th>\n",
       "    </tr>\n",
       "  </thead>\n",
       "  <tbody>\n",
       "    <tr>\n",
       "      <td>0</td>\n",
       "      <td>3</td>\n",
       "      <td>350</td>\n",
       "      <td>50</td>\n",
       "      <td>4.2</td>\n",
       "      <td>350</td>\n",
       "      <td>200</td>\n",
       "    </tr>\n",
       "    <tr>\n",
       "      <td>1</td>\n",
       "      <td>2</td>\n",
       "      <td>100</td>\n",
       "      <td>50</td>\n",
       "      <td>0.0</td>\n",
       "      <td>0</td>\n",
       "      <td>0</td>\n",
       "    </tr>\n",
       "    <tr>\n",
       "      <td>2</td>\n",
       "      <td>1</td>\n",
       "      <td>100</td>\n",
       "      <td>50</td>\n",
       "      <td>3.6</td>\n",
       "      <td>50</td>\n",
       "      <td>0</td>\n",
       "    </tr>\n",
       "    <tr>\n",
       "      <td>3</td>\n",
       "      <td>5</td>\n",
       "      <td>200</td>\n",
       "      <td>50</td>\n",
       "      <td>3.6</td>\n",
       "      <td>50</td>\n",
       "      <td>50</td>\n",
       "    </tr>\n",
       "    <tr>\n",
       "      <td>4</td>\n",
       "      <td>2</td>\n",
       "      <td>150</td>\n",
       "      <td>50</td>\n",
       "      <td>2.9</td>\n",
       "      <td>50</td>\n",
       "      <td>0</td>\n",
       "    </tr>\n",
       "  </tbody>\n",
       "</table>\n",
       "</div>"
      ],
      "text/plain": [
       "   Cuisines  Average_Cost  Minimum_Order  Rating  Votes  Reviews\n",
       "0         3           350             50     4.2    350      200\n",
       "1         2           100             50     0.0      0        0\n",
       "2         1           100             50     3.6     50        0\n",
       "3         5           200             50     3.6     50       50\n",
       "4         2           150             50     2.9     50        0"
      ]
     },
     "execution_count": 72,
     "metadata": {},
     "output_type": "execute_result"
    }
   ],
   "source": [
    "test_data.head()"
   ]
  },
  {
   "cell_type": "markdown",
   "metadata": {},
   "source": [
    "## Spliting data in train and test"
   ]
  },
  {
   "cell_type": "code",
   "execution_count": 73,
   "metadata": {},
   "outputs": [],
   "source": [
    "x_train = train_data.drop(['Delivery_Time'],axis = 1)\n",
    "y_train = train_data['Delivery_Time']\n",
    "x_test = test_data"
   ]
  },
  {
   "cell_type": "markdown",
   "metadata": {},
   "source": [
    "## Model Fitting "
   ]
  },
  {
   "cell_type": "code",
   "execution_count": 74,
   "metadata": {},
   "outputs": [],
   "source": [
    "lr = LogisticRegression()\n",
    "dt = DecisionTreeClassifier()\n",
    "rf = RandomForestClassifier(n_estimators=100)\n",
    "knn = KNeighborsClassifier(n_neighbors=7)\n",
    "nb = GaussianNB()\n",
    "xgb = XGBClassifier()"
   ]
  },
  {
   "cell_type": "code",
   "execution_count": 75,
   "metadata": {},
   "outputs": [
    {
     "name": "stderr",
     "output_type": "stream",
     "text": [
      "/home/aniruddha/anaconda3/lib/python3.7/site-packages/sklearn/linear_model/logistic.py:432: FutureWarning: Default solver will be changed to 'lbfgs' in 0.22. Specify a solver to silence this warning.\n",
      "  FutureWarning)\n",
      "/home/aniruddha/anaconda3/lib/python3.7/site-packages/sklearn/linear_model/logistic.py:469: FutureWarning: Default multi_class will be changed to 'auto' in 0.22. Specify the multi_class option to silence this warning.\n",
      "  \"this warning.\", FutureWarning)\n",
      "/home/aniruddha/anaconda3/lib/python3.7/site-packages/sklearn/linear_model/logistic.py:432: FutureWarning: Default solver will be changed to 'lbfgs' in 0.22. Specify a solver to silence this warning.\n",
      "  FutureWarning)\n",
      "/home/aniruddha/anaconda3/lib/python3.7/site-packages/sklearn/linear_model/logistic.py:469: FutureWarning: Default multi_class will be changed to 'auto' in 0.22. Specify the multi_class option to silence this warning.\n",
      "  \"this warning.\", FutureWarning)\n",
      "/home/aniruddha/anaconda3/lib/python3.7/site-packages/sklearn/linear_model/logistic.py:432: FutureWarning: Default solver will be changed to 'lbfgs' in 0.22. Specify a solver to silence this warning.\n",
      "  FutureWarning)\n",
      "/home/aniruddha/anaconda3/lib/python3.7/site-packages/sklearn/linear_model/logistic.py:469: FutureWarning: Default multi_class will be changed to 'auto' in 0.22. Specify the multi_class option to silence this warning.\n",
      "  \"this warning.\", FutureWarning)\n",
      "/home/aniruddha/anaconda3/lib/python3.7/site-packages/sklearn/linear_model/logistic.py:432: FutureWarning: Default solver will be changed to 'lbfgs' in 0.22. Specify a solver to silence this warning.\n",
      "  FutureWarning)\n",
      "/home/aniruddha/anaconda3/lib/python3.7/site-packages/sklearn/linear_model/logistic.py:469: FutureWarning: Default multi_class will be changed to 'auto' in 0.22. Specify the multi_class option to silence this warning.\n",
      "  \"this warning.\", FutureWarning)\n"
     ]
    }
   ],
   "source": [
    "lr_score = cross_val_score(lr, x_train, y_train, cv=4, scoring='accuracy')\n",
    "dt_score = cross_val_score(dt, x_train, y_train, cv=4, scoring='accuracy')\n",
    "rf_score = cross_val_score(rf, x_train, y_train, cv=4, scoring='accuracy')\n",
    "knn_score = cross_val_score(knn, x_train, y_train, cv=4, scoring='accuracy')\n",
    "nb_score = cross_val_score(nb, x_train, y_train, cv=4, scoring='accuracy')\n",
    "xgb_score = cross_val_score(xgb, x_train, y_train, cv=4, scoring='accuracy')"
   ]
  },
  {
   "cell_type": "code",
   "execution_count": 76,
   "metadata": {},
   "outputs": [
    {
     "name": "stdout",
     "output_type": "stream",
     "text": [
      "Logistic Regression:  [0.69596542 0.69069935 0.6955267  0.68964273]\n",
      "Decision Tree:  [0.73919308 0.74729632 0.73845599 0.73944424]\n",
      "Random Forest:  [0.74819885 0.75486662 0.752886   0.74630097]\n",
      "K Nearest Neighbors:  [0.69380403 0.69899063 0.71176046 0.70119091]\n",
      "Naive Bayes:  [0.27809798 0.24008652 0.12842713 0.15698304]\n",
      "XGBoost:  [0.72334294 0.72386446 0.72222222 0.71706965]\n"
     ]
    }
   ],
   "source": [
    "print('Logistic Regression: ',lr_score)\n",
    "print('Decision Tree: ',dt_score)\n",
    "print('Random Forest: ',rf_score)\n",
    "print('K Nearest Neighbors: ',knn_score)\n",
    "print('Naive Bayes: ',nb_score)\n",
    "print('XGBoost: ',xgb_score)"
   ]
  },
  {
   "cell_type": "code",
   "execution_count": 77,
   "metadata": {},
   "outputs": [],
   "source": [
    "#mean\n",
    "l_m = lr_score.mean()\n",
    "d_m = dt_score.mean()\n",
    "r_m = rf_score.mean()\n",
    "k_m = knn_score.mean()\n",
    "n_m = nb_score.mean()\n",
    "x_m = xgb_score.mean()\n",
    "\n",
    "#Stdev\n",
    "l_s = lr_score.std()\n",
    "d_s = dt_score.std()\n",
    "r_s = rf_score.std()\n",
    "k_s = knn_score.std()\n",
    "n_s = nb_score.std()\n",
    "x_s = xgb_score.std()"
   ]
  },
  {
   "cell_type": "code",
   "execution_count": 78,
   "metadata": {},
   "outputs": [
    {
     "data": {
      "text/html": [
       "<div>\n",
       "<style scoped>\n",
       "    .dataframe tbody tr th:only-of-type {\n",
       "        vertical-align: middle;\n",
       "    }\n",
       "\n",
       "    .dataframe tbody tr th {\n",
       "        vertical-align: top;\n",
       "    }\n",
       "\n",
       "    .dataframe thead th {\n",
       "        text-align: right;\n",
       "    }\n",
       "</style>\n",
       "<table border=\"1\" class=\"dataframe\">\n",
       "  <thead>\n",
       "    <tr style=\"text-align: right;\">\n",
       "      <th></th>\n",
       "      <th>Model</th>\n",
       "      <th>Accuracy</th>\n",
       "      <th>Stdev</th>\n",
       "    </tr>\n",
       "  </thead>\n",
       "  <tbody>\n",
       "    <tr>\n",
       "      <td>2</td>\n",
       "      <td>Random Forest</td>\n",
       "      <td>0.750563</td>\n",
       "      <td>0.003452</td>\n",
       "    </tr>\n",
       "    <tr>\n",
       "      <td>1</td>\n",
       "      <td>Decision Tree</td>\n",
       "      <td>0.741097</td>\n",
       "      <td>0.003597</td>\n",
       "    </tr>\n",
       "    <tr>\n",
       "      <td>5</td>\n",
       "      <td>XGBoost</td>\n",
       "      <td>0.721625</td>\n",
       "      <td>0.002696</td>\n",
       "    </tr>\n",
       "    <tr>\n",
       "      <td>3</td>\n",
       "      <td>K Nearest Neighbors</td>\n",
       "      <td>0.701437</td>\n",
       "      <td>0.006536</td>\n",
       "    </tr>\n",
       "    <tr>\n",
       "      <td>0</td>\n",
       "      <td>Logistic Regression</td>\n",
       "      <td>0.692959</td>\n",
       "      <td>0.002817</td>\n",
       "    </tr>\n",
       "    <tr>\n",
       "      <td>4</td>\n",
       "      <td>Naive Bayes</td>\n",
       "      <td>0.200899</td>\n",
       "      <td>0.060573</td>\n",
       "    </tr>\n",
       "  </tbody>\n",
       "</table>\n",
       "</div>"
      ],
      "text/plain": [
       "                 Model  Accuracy     Stdev\n",
       "2        Random Forest  0.750563  0.003452\n",
       "1        Decision Tree  0.741097  0.003597\n",
       "5              XGBoost  0.721625  0.002696\n",
       "3  K Nearest Neighbors  0.701437  0.006536\n",
       "0  Logistic Regression  0.692959  0.002817\n",
       "4          Naive Bayes  0.200899  0.060573"
      ]
     },
     "execution_count": 78,
     "metadata": {},
     "output_type": "execute_result"
    }
   ],
   "source": [
    "score = pd.DataFrame({'Model':['Logistic Regression','Decision Tree','Random Forest','K Nearest Neighbors','Naive Bayes','XGBoost'],\n",
    "        'Accuracy':[l_m,d_m,r_m,k_m,n_m,x_m],\n",
    "        'Stdev':[l_s, d_s, r_s, k_s, n_s, x_s]})\n",
    "average_scores = score.sort_values(by='Accuracy', ascending=False)\n",
    "average_scores"
   ]
  },
  {
   "cell_type": "code",
   "execution_count": 82,
   "metadata": {},
   "outputs": [],
   "source": [
    "rf.fit(x_train,y_train)\n",
    "y_test = rf.predict(x_test)"
   ]
  },
  {
   "cell_type": "code",
   "execution_count": 83,
   "metadata": {},
   "outputs": [],
   "source": [
    "output = pd.DataFrame({'Delivery_Time': y_test})\n",
    "output.to_csv('/home/aniruddha/Projects/Food Delivery Time/my_submission.csv', index=False)"
   ]
  },
  {
   "cell_type": "code",
   "execution_count": null,
   "metadata": {},
   "outputs": [],
   "source": []
  }
 ],
 "metadata": {
  "kernelspec": {
   "display_name": "Python 3",
   "language": "python",
   "name": "python3"
  },
  "language_info": {
   "codemirror_mode": {
    "name": "ipython",
    "version": 3
   },
   "file_extension": ".py",
   "mimetype": "text/x-python",
   "name": "python",
   "nbconvert_exporter": "python",
   "pygments_lexer": "ipython3",
   "version": "3.7.4"
  }
 },
 "nbformat": 4,
 "nbformat_minor": 2
}
